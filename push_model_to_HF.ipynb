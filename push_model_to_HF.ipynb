{
  "nbformat": 4,
  "nbformat_minor": 0,
  "metadata": {
    "colab": {
      "provenance": [],
      "gpuType": "T4",
      "authorship_tag": "ABX9TyMd3WxnEmCuBzb/JiDM8Oty",
      "include_colab_link": true
    },
    "kernelspec": {
      "name": "python3",
      "display_name": "Python 3"
    },
    "language_info": {
      "name": "python"
    },
    "accelerator": "GPU"
  },
  "cells": [
    {
      "cell_type": "markdown",
      "metadata": {
        "id": "view-in-github",
        "colab_type": "text"
      },
      "source": [
        "<a href=\"https://colab.research.google.com/github/sujal03/FineTuning-Colabs/blob/main/push_model_to_HF.ipynb\" target=\"_parent\"><img src=\"https://colab.research.google.com/assets/colab-badge.svg\" alt=\"Open In Colab\"/></a>"
      ]
    },
    {
      "cell_type": "code",
      "execution_count": null,
      "metadata": {
        "id": "1ZifAJQ-10VZ"
      },
      "outputs": [],
      "source": [
        "!pip install -q transformers accelerate huggingface_hub"
      ]
    },
    {
      "cell_type": "code",
      "source": [
        "from huggingface_hub import notebook_login\n",
        "\n",
        "notebook_login()  # This will show a widget to enter your HF token"
      ],
      "metadata": {
        "id": "FyTIRGlh2qrk"
      },
      "execution_count": null,
      "outputs": []
    },
    {
      "cell_type": "code",
      "source": [
        "from transformers import AutoTokenizer, AutoModelForCausalLM\n",
        "\n",
        "# Load model and tokenizer\n",
        "model = AutoModelForCausalLM.from_pretrained(\"meta-llama/Llama-3.2-3B-Instruct\")\n",
        "tokenizer = AutoTokenizer.from_pretrained(\"meta-llama/Llama-3.2-3B-Instruct\")\n",
        "\n",
        "# Save locally\n",
        "model.save_pretrained(\"/content/llama-3-2b-instruct\")\n",
        "tokenizer.save_pretrained(\"/content/llama-3-2b-instruct\")"
      ],
      "metadata": {
        "id": "JRGDJhlw2y51"
      },
      "execution_count": null,
      "outputs": []
    },
    {
      "cell_type": "code",
      "source": [
        "from transformers import AutoTokenizer, AutoModelForCausalLM, pipeline\n",
        "\n",
        "# Load the original model\n",
        "model_name = \"meta-llama/Llama-3.2-3B-Instruct\"\n",
        "tokenizer = AutoTokenizer.from_pretrained(model_name)\n",
        "model = AutoModelForCausalLM.from_pretrained(model_name, device_map=\"auto\")\n",
        "\n",
        "# Create a test prompt using the correct chat template\n",
        "messages = [\n",
        "    {\"role\": \"system\", \"content\": \"You are a helpful AI assistant.\"},\n",
        "    {\"role\": \"user\", \"content\": \"Explain quantum computing in 3 sentences.\"}\n",
        "]\n",
        "\n",
        "# Format according to Llama-3's required template\n",
        "prompt = tokenizer.apply_chat_template(\n",
        "    messages,\n",
        "    tokenize=False,\n",
        "    add_generation_prompt=True\n",
        ")\n",
        "\n",
        "# Create pipeline for generation\n",
        "pipe = pipeline(\n",
        "    \"text-generation\",\n",
        "    model=model,\n",
        "    tokenizer=tokenizer,\n",
        "    device_map=\"auto\"\n",
        ")\n",
        "\n",
        "# Generate response\n",
        "outputs = pipe(\n",
        "    prompt,\n",
        "    max_new_tokens=256,\n",
        "    do_sample=True,\n",
        "    temperature=0.7,\n",
        "    top_p=0.9\n",
        ")\n",
        "\n",
        "# Print formatted output\n",
        "print(\"Original Model Response:\")\n",
        "print(outputs[0]['generated_text'][len(prompt):].strip())"
      ],
      "metadata": {
        "id": "an7FxjAQ4krb"
      },
      "execution_count": null,
      "outputs": []
    },
    {
      "cell_type": "code",
      "source": [
        "from huggingface_hub import HfApi\n",
        "\n",
        "# Replace with your Hugging Face username\n",
        "repo_id = \"suzall/llama-3.2-3b-linkbox-finetune\"\n",
        "\n",
        "# Push model\n",
        "model.push_to_hub(repo_id)\n",
        "tokenizer.push_to_hub(repo_id)"
      ],
      "metadata": {
        "id": "09VeaybJ20Ox"
      },
      "execution_count": null,
      "outputs": []
    },
    {
      "cell_type": "code",
      "source": [
        "# Replace with your username/repo-name\n",
        "your_repo_id = \"suzall/llama-3.2-3b-linkbox-finetune\"\n",
        "\n",
        "# Load from your repository\n",
        "your_tokenizer = AutoTokenizer.from_pretrained(your_repo_id)\n",
        "your_model = AutoModelForCausalLM.from_pretrained(your_repo_id, device_map=\"auto\")\n",
        "\n",
        "# Test with the same prompt\n",
        "your_pipe = pipeline(\n",
        "    \"text-generation\",\n",
        "    model=your_model,\n",
        "    tokenizer=your_tokenizer,\n",
        "    device_map=\"auto\"\n",
        ")\n",
        "\n",
        "# Generate response\n",
        "your_outputs = your_pipe(\n",
        "    prompt,\n",
        "    max_new_tokens=256,\n",
        "    do_sample=True,\n",
        "    temperature=0.7,\n",
        "    top_p=0.9\n",
        ")\n",
        "\n",
        "# Print formatted output\n",
        "print(\"\\nYour Uploaded Model Response:\")\n",
        "print(your_outputs[0]['generated_text'][len(prompt):].strip())"
      ],
      "metadata": {
        "id": "6qipREwJ4pGJ"
      },
      "execution_count": null,
      "outputs": []
    }
  ]
}